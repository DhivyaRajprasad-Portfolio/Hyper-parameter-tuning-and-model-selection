{
 "cells": [
  {
   "cell_type": "code",
   "execution_count": 228,
   "metadata": {
    "collapsed": false
   },
   "outputs": [],
   "source": [
    "\n",
    "import pandas\n",
    "from sklearn import model_selection\n",
    "from sklearn.linear_model import LogisticRegression\n",
    "from sklearn.neighbors import KNeighborsClassifier\n",
    "from sklearn.model_selection import KFold, cross_val_score, GridSearchCV\n",
    "from sklearn.model_selection import train_test_split\n",
    "from sklearn.neural_network import MLPClassifier \n",
    "from sklearn.model_selection import GridSearchCV\n",
    "from sklearn.metrics import classification_report\n",
    "import itertools\n"
   ]
  },
  {
   "cell_type": "code",
   "execution_count": 229,
   "metadata": {
    "collapsed": true
   },
   "outputs": [],
   "source": [
    "url = \"http://archive.ics.uci.edu/ml/machine-learning-databases/wine/wine.data\"\n",
    "names = ['class','Alcohol', 'Malic acid', 'Ash', 'Alcalinity of ash', 'Magnesium', \n",
    "         'Total phenols', 'Flavanoids', 'Nonflavanoid phenols', 'Proanthocyanins', \n",
    "         'Color intensity', 'Hue', 'OD280/OD315 of diluted wines', 'Proline']\n",
    "dataframe = pandas.read_csv(url, names=names)\n"
   ]
  },
  {
   "cell_type": "code",
   "execution_count": 230,
   "metadata": {
    "collapsed": false
   },
   "outputs": [
    {
     "data": {
      "text/html": [
       "<div>\n",
       "<table border=\"1\" class=\"dataframe\">\n",
       "  <thead>\n",
       "    <tr style=\"text-align: right;\">\n",
       "      <th></th>\n",
       "      <th>class</th>\n",
       "      <th>Alcohol</th>\n",
       "      <th>Malic acid</th>\n",
       "      <th>Ash</th>\n",
       "      <th>Alcalinity of ash</th>\n",
       "      <th>Magnesium</th>\n",
       "      <th>Total phenols</th>\n",
       "      <th>Flavanoids</th>\n",
       "      <th>Nonflavanoid phenols</th>\n",
       "      <th>Proanthocyanins</th>\n",
       "      <th>Color intensity</th>\n",
       "      <th>Hue</th>\n",
       "      <th>OD280/OD315 of diluted wines</th>\n",
       "      <th>Proline</th>\n",
       "    </tr>\n",
       "  </thead>\n",
       "  <tbody>\n",
       "    <tr>\n",
       "      <th>0</th>\n",
       "      <td>1</td>\n",
       "      <td>14.23</td>\n",
       "      <td>1.71</td>\n",
       "      <td>2.43</td>\n",
       "      <td>15.6</td>\n",
       "      <td>127</td>\n",
       "      <td>2.80</td>\n",
       "      <td>3.06</td>\n",
       "      <td>0.28</td>\n",
       "      <td>2.29</td>\n",
       "      <td>5.64</td>\n",
       "      <td>1.04</td>\n",
       "      <td>3.92</td>\n",
       "      <td>1065</td>\n",
       "    </tr>\n",
       "    <tr>\n",
       "      <th>1</th>\n",
       "      <td>1</td>\n",
       "      <td>13.20</td>\n",
       "      <td>1.78</td>\n",
       "      <td>2.14</td>\n",
       "      <td>11.2</td>\n",
       "      <td>100</td>\n",
       "      <td>2.65</td>\n",
       "      <td>2.76</td>\n",
       "      <td>0.26</td>\n",
       "      <td>1.28</td>\n",
       "      <td>4.38</td>\n",
       "      <td>1.05</td>\n",
       "      <td>3.40</td>\n",
       "      <td>1050</td>\n",
       "    </tr>\n",
       "    <tr>\n",
       "      <th>2</th>\n",
       "      <td>1</td>\n",
       "      <td>13.16</td>\n",
       "      <td>2.36</td>\n",
       "      <td>2.67</td>\n",
       "      <td>18.6</td>\n",
       "      <td>101</td>\n",
       "      <td>2.80</td>\n",
       "      <td>3.24</td>\n",
       "      <td>0.30</td>\n",
       "      <td>2.81</td>\n",
       "      <td>5.68</td>\n",
       "      <td>1.03</td>\n",
       "      <td>3.17</td>\n",
       "      <td>1185</td>\n",
       "    </tr>\n",
       "    <tr>\n",
       "      <th>3</th>\n",
       "      <td>1</td>\n",
       "      <td>14.37</td>\n",
       "      <td>1.95</td>\n",
       "      <td>2.50</td>\n",
       "      <td>16.8</td>\n",
       "      <td>113</td>\n",
       "      <td>3.85</td>\n",
       "      <td>3.49</td>\n",
       "      <td>0.24</td>\n",
       "      <td>2.18</td>\n",
       "      <td>7.80</td>\n",
       "      <td>0.86</td>\n",
       "      <td>3.45</td>\n",
       "      <td>1480</td>\n",
       "    </tr>\n",
       "    <tr>\n",
       "      <th>4</th>\n",
       "      <td>1</td>\n",
       "      <td>13.24</td>\n",
       "      <td>2.59</td>\n",
       "      <td>2.87</td>\n",
       "      <td>21.0</td>\n",
       "      <td>118</td>\n",
       "      <td>2.80</td>\n",
       "      <td>2.69</td>\n",
       "      <td>0.39</td>\n",
       "      <td>1.82</td>\n",
       "      <td>4.32</td>\n",
       "      <td>1.04</td>\n",
       "      <td>2.93</td>\n",
       "      <td>735</td>\n",
       "    </tr>\n",
       "  </tbody>\n",
       "</table>\n",
       "</div>"
      ],
      "text/plain": [
       "   class  Alcohol  Malic acid   Ash  Alcalinity of ash  Magnesium  \\\n",
       "0      1    14.23        1.71  2.43               15.6        127   \n",
       "1      1    13.20        1.78  2.14               11.2        100   \n",
       "2      1    13.16        2.36  2.67               18.6        101   \n",
       "3      1    14.37        1.95  2.50               16.8        113   \n",
       "4      1    13.24        2.59  2.87               21.0        118   \n",
       "\n",
       "   Total phenols  Flavanoids  Nonflavanoid phenols  Proanthocyanins  \\\n",
       "0           2.80        3.06                  0.28             2.29   \n",
       "1           2.65        2.76                  0.26             1.28   \n",
       "2           2.80        3.24                  0.30             2.81   \n",
       "3           3.85        3.49                  0.24             2.18   \n",
       "4           2.80        2.69                  0.39             1.82   \n",
       "\n",
       "   Color intensity   Hue  OD280/OD315 of diluted wines  Proline  \n",
       "0             5.64  1.04                          3.92     1065  \n",
       "1             4.38  1.05                          3.40     1050  \n",
       "2             5.68  1.03                          3.17     1185  \n",
       "3             7.80  0.86                          3.45     1480  \n",
       "4             4.32  1.04                          2.93      735  "
      ]
     },
     "execution_count": 230,
     "metadata": {},
     "output_type": "execute_result"
    }
   ],
   "source": [
    "dataframe.head()"
   ]
  },
  {
   "cell_type": "code",
   "execution_count": 231,
   "metadata": {
    "collapsed": false
   },
   "outputs": [],
   "source": [
    "array = dataframe.values\n",
    "X = array[:,1:14]\n",
    "Y = array[:,0]\n",
    "X_train, X_test, Y_train, Y_test = train_test_split(\n",
    "        X, Y, test_size=0.25, random_state=None)\n",
    "results = []"
   ]
  },
  {
   "cell_type": "markdown",
   "metadata": {},
   "source": [
    "**Logistic Regression**"
   ]
  },
  {
   "cell_type": "code",
   "execution_count": 240,
   "metadata": {
    "collapsed": false
   },
   "outputs": [
    {
     "name": "stdout",
     "output_type": "stream",
     "text": [
      "Accuracy: 0.96 (+/- 0.07)\n"
     ]
    }
   ],
   "source": [
    "logistic_clf = LogisticRegression()\n",
    "logistic_clf.fit(X_train, Y_train)\n",
    "logistic_clf_predictions_train = logistic_clf.predict(X_train)\n",
    "logistic_clf_predictions_test = logistic_clf.predict(X_test)\n",
    "logistic_clf_score = logistic_clf.score(X_train,Y_train)\n",
    "\n",
    "## K-Fold Cross-Validation\n",
    "logistic_kfold = model_selection.KFold(n_splits=10, random_state=7)\n",
    "logistic_cv_results = model_selection.cross_val_score(logistic_clf, X_train, Y_train, cv=logistic_kfold, \n",
    "                                                      scoring='accuracy')\n",
    "results.append(logistic_cv_results)\n"
   ]
  },
  {
   "cell_type": "markdown",
   "metadata": {},
   "source": [
    "** K Nearest Neighbours **"
   ]
  },
  {
   "cell_type": "code",
   "execution_count": 233,
   "metadata": {
    "collapsed": false
   },
   "outputs": [],
   "source": [
    "\n",
    "KNN_clf = KNeighborsClassifier()\n",
    "KNN_clf.fit(X_train, Y_train)\n",
    "KNN_clf_predictions_train = KNN_clf.predict(X_train)\n",
    "KNN_clf_predictions_test = KNN_clf.predict(X_test)\n",
    "KNN_clf_score = KNN_clf.score(X_train,Y_train)\n",
    "\n",
    "## K-Fold Cross-Validation\n",
    "KNN_kfold = model_selection.KFold(n_splits=10, random_state=7)\n",
    "KNN_cv_results = model_selection.cross_val_score(KNN_clf, X_train, Y_train, cv=KNN_kfold, scoring='accuracy')\n",
    "results.append(KNN_cv_results)"
   ]
  },
  {
   "cell_type": "markdown",
   "metadata": {},
   "source": [
    "**Neural Networks**"
   ]
  },
  {
   "cell_type": "code",
   "execution_count": 239,
   "metadata": {
    "collapsed": false
   },
   "outputs": [
    {
     "data": {
      "text/plain": [
       "array([ 0.35714286,  0.64285714,  0.71428571,  0.61538462,  0.84615385,\n",
       "        0.84615385,  0.69230769,  0.69230769,  0.69230769,  0.69230769])"
      ]
     },
     "execution_count": 239,
     "metadata": {},
     "output_type": "execute_result"
    }
   ],
   "source": [
    "MLPClassifier_clf = MLPClassifier(solver='lbfgs', alpha=1e-5,\n",
    "                    hidden_layer_sizes=(9, 6), random_state=1)\n",
    "MLPClassifier_clf.fit(X_train, Y_train)\n",
    "MLPClassifier_clf_predictions_train = MLPClassifier_clf.predict(X_train)\n",
    "MLPClassifier_clf_predictions_test = MLPClassifier_clf.predict(X_test)\n",
    "MLPClassifier_clf_score = MLPClassifier_clf.score(X_train,Y_train)\n",
    "\n",
    "## K-Fold Cross-Validation\n",
    "MLPClassifier_kfold = model_selection.KFold(n_splits=10, random_state=7)\n",
    "MLPClassifier_cv_results = model_selection.cross_val_score(MLPClassifier_clf, \n",
    "                                                           X_train, Y_train, \n",
    "                                                           cv=MLPClassifier_kfold, \n",
    "                                                           scoring='accuracy')"
   ]
  },
  {
   "cell_type": "markdown",
   "metadata": {},
   "source": [
    "**Performance Comparison**"
   ]
  },
  {
   "cell_type": "code",
   "execution_count": 241,
   "metadata": {
    "collapsed": false
   },
   "outputs": [
    {
     "name": "stdout",
     "output_type": "stream",
     "text": [
      "Results for Logistic Regression classifier\n",
      "Accuracy on the train data is 98.4962406015%\n",
      "Accuracy on the test data is 93.3333333333%\n",
      "Accuracy of the Cross-Validation: 0.96 (+/- 0.07)\n",
      "Results for K Nearest Neighbour\n",
      "Accuracy on the train data is 76.6917293233%\n",
      "Accuracy on the test data is 64.4444444444%\n",
      "Accuracy of the Cross-Validation: 0.72 (+/- 0.20)\n",
      "Results for Neural Networks\n",
      "Accuracy on the train data is 72.1804511278%\n",
      "Accuracy on the test data is 60.0%\n",
      "Accuracy of the Cross-Validation: 0.68 (+/- 0.26)\n"
     ]
    }
   ],
   "source": [
    "print(\"Results for Logistic Regression classifier\")\n",
    "print(\"Accuracy on the train data is \" + str(np.mean(logistic_clf_predictions_train == Y_train)*100) + \"%\")\n",
    "print(\"Accuracy on the test data is \" + str(np.mean(logistic_clf_predictions_test == Y_test)*100) + \"%\")\n",
    "print(\"Accuracy of the Cross-Validation: %0.2f (+/- %0.2f)\" % (logistic_cv_results.mean(), \n",
    "                                                               logistic_cv_results.std() * 2))\n",
    "\n",
    "print(\"Results for K Nearest Neighbour\")\n",
    "print(\"Accuracy on the train data is \" + str(np.mean(KNN_clf_predictions_train == Y_train)*100) + \"%\")\n",
    "print(\"Accuracy on the test data is \" + str(np.mean(KNN_clf_predictions_test == Y_test)*100) + \"%\")\n",
    "print(\"Accuracy of the Cross-Validation: %0.2f (+/- %0.2f)\" % (KNN_cv_results.mean(), \n",
    "                                                               KNN_cv_results.std() * 2))\n",
    "\n",
    "print(\"Results for Neural Networks\")\n",
    "print(\"Accuracy on the train data is \" + str(np.mean(MLPClassifier_clf_predictions_train == Y_train)*100) + \"%\")\n",
    "print(\"Accuracy on the test data is \" + str(np.mean(MLPClassifier_clf_predictions_test == Y_test)*100) + \"%\")\n",
    "print(\"Accuracy of the Cross-Validation: %0.2f (+/- %0.2f)\" % (MLPClassifier_cv_results.mean(), \n",
    "                                                               MLPClassifier_cv_results.std() * 2))\n"
   ]
  },
  {
   "cell_type": "markdown",
   "metadata": {},
   "source": [
    "**Tuning the neural network model**"
   ]
  },
  {
   "cell_type": "code",
   "execution_count": 242,
   "metadata": {
    "collapsed": false
   },
   "outputs": [
    {
     "name": "stdout",
     "output_type": "stream",
     "text": [
      "Results for Neural Networks\n",
      "Accuracy on the train data is 94.7368421053%\n",
      "Accuracy on the train data is 88.8888888889%\n",
      "The best estimator for the hidden layers is - MLPClassifier(activation='relu', alpha=1e-05, batch_size='auto', beta_1=0.9,\n",
      "       beta_2=0.999, early_stopping=False, epsilon=1e-08,\n",
      "       hidden_layer_sizes=(2, 4), learning_rate='constant',\n",
      "       learning_rate_init=0.001, max_iter=200, momentum=0.9,\n",
      "       nesterovs_momentum=True, power_t=0.5, random_state=1, shuffle=True,\n",
      "       solver='lbfgs', tol=0.0001, validation_fraction=0.1, verbose=False,\n",
      "       warm_start=False)\n"
     ]
    }
   ],
   "source": [
    "#Grid Search\n",
    "parameters = {'solver':['lbfgs'], 'alpha':[1e-5], 'random_state':[1],'hidden_layer_sizes':\n",
    "              list(itertools.product([1, 2, 3, 4, 5, 6, 7, 8, 9, 10],[1, 2, 3, 4, 5, 6, 7, 8, 9, 10]))}\n",
    "nn = MLPClassifier()\n",
    "neural_net_grid = GridSearchCV(nn, parameters)\n",
    "neural_net_grid.fit(X_train, Y_train)\n",
    "neural_net_grid_pred_train = neural_net_grid.predict(X_train)\n",
    "neural_net_grid_pred_test = neural_net_grid.predict(X_test)\n",
    "print(\"Results for Neural Networks\")\n",
    "print(\"Accuracy on the train data is \" + str(np.mean(neural_net_grid_pred_train == Y_train)*100) + \"%\")\n",
    "print(\"Accuracy on the train data is \" + str(np.mean(neural_net_grid_pred_test == Y_test)*100) + \"%\")\n",
    "print(\"The best estimator for the hidden layers is - \" + str(neural_net_grid.best_estimator_))"
   ]
  },
  {
   "cell_type": "code",
   "execution_count": 237,
   "metadata": {
    "collapsed": false
   },
   "outputs": [
    {
     "name": "stdout",
     "output_type": "stream",
     "text": [
      "Results for tuned Neural Network\n",
      "Accuracy on the train data is 94.7368421053%\n",
      "             precision    recall  f1-score   support\n",
      "\n",
      "        1.0       0.97      0.88      0.93        43\n",
      "        2.0       0.93      0.97      0.95        58\n",
      "        3.0       0.94      1.00      0.97        32\n",
      "\n",
      "avg / total       0.95      0.95      0.95       133\n",
      "\n",
      "Accuracy on the test data is 88.8888888889%\n",
      "             precision    recall  f1-score   support\n",
      "\n",
      "        1.0       0.93      0.81      0.87        16\n",
      "        2.0       0.92      0.85      0.88        13\n",
      "        3.0       0.84      1.00      0.91        16\n",
      "\n",
      "avg / total       0.89      0.89      0.89        45\n",
      "\n",
      "Confusion Matrix for Train Data\n",
      "[[38  4  1]\n",
      " [ 1 56  1]\n",
      " [ 0  0 32]]\n",
      "Confusion Matrix for Test Data\n",
      "[[13  1  2]\n",
      " [ 1 11  1]\n",
      " [ 0  0 16]]\n",
      "--------------------------------------------------------------------------------------------------\n"
     ]
    }
   ],
   "source": [
    "print(\"Results for tuned Neural Network\")\n",
    "print(\"Accuracy on the train data is \" + str(np.mean(neural_net_grid_pred_train == Y_train)*100) + \"%\")\n",
    "print(classification_report(y_true=Y_train, y_pred=neural_net_grid_pred_train))\n",
    "print(\"Accuracy on the test data is \" + str(np.mean(neural_net_grid_pred_test == Y_test)*100) + \"%\")\n",
    "print(classification_report(y_true=Y_test, y_pred=neural_net_grid_pred_test))\n",
    "print(\"Confusion Matrix for Train Data\")\n",
    "print(confusion_matrix(Y_train, neural_net_grid_pred_train))\n",
    "print(\"Confusion Matrix for Test Data\")\n",
    "print(confusion_matrix(Y_test, neural_net_grid_pred_test))\n",
    "print(\"--------------------------------------------------------------------------------------------------\")\n"
   ]
  },
  {
   "cell_type": "code",
   "execution_count": null,
   "metadata": {
    "collapsed": true
   },
   "outputs": [],
   "source": [
    "\n"
   ]
  }
 ],
 "metadata": {
  "kernelspec": {
   "display_name": "Python 2",
   "language": "python",
   "name": "python2"
  },
  "language_info": {
   "codemirror_mode": {
    "name": "ipython",
    "version": 2
   },
   "file_extension": ".py",
   "mimetype": "text/x-python",
   "name": "python",
   "nbconvert_exporter": "python",
   "pygments_lexer": "ipython2",
   "version": "2.7.13"
  }
 },
 "nbformat": 4,
 "nbformat_minor": 2
}
